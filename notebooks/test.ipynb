{
 "cells": [
  {
   "cell_type": "code",
   "execution_count": null,
   "id": "67a4634b",
   "metadata": {},
   "outputs": [],
   "source": [
    "import numpy as np\n",
    "import matplotlib.pyplot as plt\n",
    "plt.rcParams[\"figure.dpi\"] = 130\n",
    "\n",
    "from pepe import analysis"
   ]
  },
  {
   "cell_type": "code",
   "execution_count": null,
   "id": "97f6bd39",
   "metadata": {},
   "outputs": [],
   "source": [
    "peImage = analysis.checkImageType('test_data/P00003.bmp')\n",
    "wlImage = analysis.checkImageType('test_data/N00003.bmp')\n",
    "\n",
    "peImageDisp = np.array(peImage, dtype=int)\n",
    "wlImageDisp = np.array(wlImage, dtype=int)\n",
    "\n",
    "fig, ax = plt.subplots(1, 2, figsize=(12, 5))\n",
    "ax[0].imshow(peImageDisp)\n",
    "ax[1].imshow(wlImageDisp)\n",
    "plt.show()"
   ]
  },
  {
   "cell_type": "code",
   "execution_count": null,
   "id": "ae7f7b9a",
   "metadata": {},
   "outputs": [],
   "source": [
    "gSqr = analysis.gSquared(peImage[:,:,0])\n",
    "rescaledGSqr = (100 * gSqr / np.max(gSqr))**2\n",
    "rescaledGSqr\n",
    "plt.pcolor(gSqr)\n",
    "plt.colorbar()\n",
    "plt.show()"
   ]
  },
  {
   "cell_type": "code",
   "execution_count": null,
   "id": "d63df169",
   "metadata": {},
   "outputs": [],
   "source": [
    "for i in range(50):\n",
    "    analysis.averageGSquared(peImage)"
   ]
  },
  {
   "cell_type": "code",
   "execution_count": null,
   "id": "f3e3a3b5",
   "metadata": {},
   "outputs": [],
   "source": []
  }
 ],
 "metadata": {
  "kernelspec": {
   "display_name": "Python 3",
   "language": "python",
   "name": "python3"
  },
  "language_info": {
   "codemirror_mode": {
    "name": "ipython",
    "version": 3
   },
   "file_extension": ".py",
   "mimetype": "text/x-python",
   "name": "python",
   "nbconvert_exporter": "python",
   "pygments_lexer": "ipython3",
   "version": "3.9.5"
  }
 },
 "nbformat": 4,
 "nbformat_minor": 5
}

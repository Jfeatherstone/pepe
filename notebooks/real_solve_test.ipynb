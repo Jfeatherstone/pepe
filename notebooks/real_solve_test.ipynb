{
 "cells": [
  {
   "cell_type": "code",
   "execution_count": null,
   "id": "6e5e7794-348c-4d6b-95d7-0ffa63ade8b0",
   "metadata": {},
   "outputs": [],
   "source": [
    "# My custom library of photoelastic tools\n",
    "import sys\n",
    "sys.path.append('/eno/jdfeathe/pepe/')\n",
    "sys.path.append('/home/jack/workspaces/jupyter-workspace/pepe/')\n",
    "\n",
    "from pepe.preprocess import crossMask, checkImageType, rectMask, mergeMasks, circularMask\n",
    "from pepe.simulate import genSyntheticResponse\n",
    "from pepe.analysis import initialForceSolve, forceOptimize\n",
    "from pepe.tracking import convCircle\n",
    "\n",
    "import numpy as np\n",
    "\n",
    "import cv2\n",
    "\n",
    "import matplotlib.pyplot as plt\n",
    "plt.rcParams['figure.dpi'] = 140"
   ]
  },
  {
   "cell_type": "code",
   "execution_count": null,
   "id": "2777f552-9053-4994-9277-c2f70988d246",
   "metadata": {},
   "outputs": [],
   "source": [
    "dataFolder = '/eno/jdfeathe/DATA/SpaceJam/'\n",
    "dataset = '2022-05-18_100_MHH_Gap5_1'\n",
    "fileName = 'frame0352.bmp'\n",
    "\n",
    "maskFolder = '/eno/jdfeathe/SpaceJam/masks/'\n",
    "\n",
    "image = checkImageType(dataFolder + dataset + '/' + fileName)\n",
    "\n",
    "maskArr = checkImageType(f'{maskFolder}{dataset.split(\"_\")[0]}_FullMask.bmp')\n",
    "\n",
    "circleTrackingKwargs = {\"intensitySoftmax\": 2., \"intensitySoftmin\": 1.8, \"peakDownsample\": 5,\n",
    "                        \"offscreenParticles\": False, \"radiusTolerance\": None, \"negativeHalo\": True,\n",
    "                        \"fitPeaks\": False, \"allowOverlap\": True, \"kernelBlurKernel\": 3}\n",
    "\n",
    "radius = 160"
   ]
  },
  {
   "cell_type": "code",
   "execution_count": null,
   "id": "19de923b-e764-41b4-b9d4-c2b3e44b8502",
   "metadata": {},
   "outputs": [],
   "source": [
    "\n",
    "# g2 to force conversion is calibrated on the scale [0, 1], not [0, 255]\n",
    "# We also blur the images a little, since they are visibly grainy\n",
    "photoelasticChannel = cv2.blur(image[:,:,1].astype(np.float64) / 255, (3,3))\n",
    "\n",
    "\n",
    "centers, radii = convCircle(image[:,:,0] * maskArr[:,:,0], radius, **circleTrackingKwargs, debug=True)\n",
    "\n",
    "#centers = centers.astype(np.int64)\n",
    "#radii = radii.astype(np.int64)\n",
    "\n",
    "# A particle is about 1cm across\n",
    "pxPerMeter = 2*np.mean(radii) / .015\n",
    "# No idea what the actual value for this is\n",
    "fSigma = 140\n",
    "\n",
    "# Make some fake data with several potential wall contacts\n",
    "fig, ax = plt.subplots(1, 2, figsize=(8, 4))\n",
    "\n",
    "ax[0].imshow(maskArr * image)\n",
    "for i in range(len(centers)):\n",
    "    c = plt.Circle(centers[i][::-1], radii[i], label='Detected particles', color='teal', fill=False, linewidth=1)\n",
    "    ax[0].add_artist(c)\n",
    "\n",
    "print(centers)\n",
    "    \n",
    "ax[1].imshow(photoelasticChannel * maskArr[:,:,0])\n",
    "plt.show()"
   ]
  },
  {
   "cell_type": "code",
   "execution_count": null,
   "id": "74e06bea-f66f-485d-adc7-6369290dcafe",
   "metadata": {},
   "outputs": [],
   "source": [
    "[[ 522.17176269  929.73197906]\n",
    " [ 517.3989014   601.97035438]\n",
    " [ 840.99758923  592.00049264]\n",
    " [ 192.99992765  597.66421486]\n",
    " [ 522.00085837 1261.88417836]]\n",
    "\n",
    "[[ 522.30521237  929.32089571]\n",
    " [ 517.29383455  601.25142794]\n",
    " [ 840.99996426  592.00041627]\n",
    " [ 193.30420172  597.9999228 ]\n",
    " [ 522.0094224  1261.86348882]]\n",
    "\n",
    "[[ 522.68571296  927.30152497]\n",
    " [ 517.44344036  601.2772391 ]\n",
    " [ 841.29808301  591.52107297]\n",
    " [ 193.00183274  598.99866654]\n",
    " [ 522.49681264 1259.79442421]]\n",
    "\n",
    "[[ 522.36287916  927.37346439]\n",
    " [ 517.47042567  601.16138425]\n",
    " [ 841.27590447  591.53502287]\n",
    " [ 192.99741834  597.99743414]\n",
    " [ 521.26744614 1259.55513988]]\n",
    "\n"
   ]
  },
  {
   "cell_type": "code",
   "execution_count": null,
   "id": "ab70b9de-f8a3-44de-bb81-6d56d0036c83",
   "metadata": {},
   "outputs": [],
   "source": [
    "fig, ax = plt.subplots()\n",
    "\n",
    "ax.imshow(maskArr[:,:,0])\n",
    "ax.set_xticks([])\n",
    "ax.set_yticks([])\n",
    "\n",
    "for i in range(len(centers)):\n",
    "    c = plt.Circle(centers[i][::-1], radii[i], label='Detected particles', color='teal', fill=False, linewidth=1)\n",
    "    ax.add_artist(c)\n",
    "\n",
    "\n",
    "ax.set_title('Example Mask')\n",
    "#ax.colorbar()\n",
    "#plt.savefig('../images/example_uses/example_mask.png')\n",
    "plt.show()"
   ]
  },
  {
   "cell_type": "markdown",
   "id": "298fae41-31f9-4848-8c17-54077e7f8a57",
   "metadata": {},
   "source": [
    "## Find initial guess"
   ]
  },
  {
   "cell_type": "code",
   "execution_count": null,
   "id": "5619190d-5cc3-4141-9f59-61e491690258",
   "metadata": {},
   "outputs": [],
   "source": [
    "# Parameters of our force solving method\n",
    "contactPadding = 30\n",
    "g2MaskPadding = 3\n",
    "contactMaskRadius = 30\n",
    "brightfield = False\n",
    "\n",
    "forceGuessArr, alphaGuessArr, betaGuessArr = initialForceSolve(photoelasticChannel,\n",
    "                                                centers, radii, fSigma, pxPerMeter,\n",
    "                                                contactPadding, g2MaskPadding,\n",
    "                                                contactMaskRadius=contactMaskRadius,\n",
    "                                                boundaryMask=maskArr, ignoreBoundary=False)\n",
    "\n",
    "#forceGuessArr /= np.max([np.max(f) for f in forceGuessArr])"
   ]
  },
  {
   "cell_type": "markdown",
   "id": "b3797aca-12f2-49e8-831d-42584cbb49dd",
   "metadata": {},
   "source": [
    "## Show initial guess"
   ]
  },
  {
   "cell_type": "code",
   "execution_count": null,
   "id": "a8cf808a-4b7f-4d5a-ab11-2f4004681026",
   "metadata": {},
   "outputs": [],
   "source": [
    "# Draw on all of the found contacts\n",
    "fig, ax = plt.subplots()\n",
    "\n",
    "ax.imshow(maskArr*255)\n",
    "\n",
    "for i in range(len(centers)):\n",
    "    # particle itself\n",
    "    c = plt.Circle(centers[i][::-1], radii[i], label='Detected particle', color='orange')\n",
    "    ax.add_artist(c)\n",
    "    \n",
    "    # Now add contacts\n",
    "    for j in range(len(betaGuessArr[i])):\n",
    "        contactPoint = centers[i] + radii[i] * np.array([np.cos(betaGuessArr[i][j]), np.sin(betaGuessArr[i][j])])\n",
    "        #linePoints = np.array([centers[i], radii[i] * np.array([np.cos(betaGuessArr[i][j]), np.sin(betaGuessArr[i][j])])])\n",
    "        #plt.plot(linePoints[0], linePoints[1], color='blue')\n",
    "        cc = plt.Circle(contactPoint[::-1], 20, color='red')\n",
    "        ax.add_artist(cc)\n",
    "        \n",
    "plt.show()"
   ]
  },
  {
   "cell_type": "code",
   "execution_count": null,
   "id": "96f88cc7-8326-45e7-9ab4-935fac50cd71",
   "metadata": {},
   "outputs": [],
   "source": [
    "fig, ax = plt.subplots(1, 2, figsize=(8,4))\n",
    "\n",
    "ax[0].imshow(photoelasticChannel * maskArr[:,:,0])\n",
    "ax[0].set_title('True photoelastic response\\n(unknown forces)')\n",
    "\n",
    "estimatedPhotoelasticChannel = np.zeros_like(photoelasticChannel, dtype=np.float64)\n",
    "\n",
    "for i in range(len(centers)):\n",
    "    estimatedPhotoelasticChannel += genSyntheticResponse(np.array(forceGuessArr[i]),\n",
    "                                                         np.array(alphaGuessArr[i]),\n",
    "                                                         np.array(betaGuessArr[i]),\n",
    "                                                         fSigma, radii[i],\n",
    "                                                         pxPerMeter, brightfield, imageSize=photoelasticChannel.shape,\n",
    "                                                         center=centers[i])\n",
    "\n",
    "\n",
    "ax[1].imshow(estimatedPhotoelasticChannel)\n",
    "ax[1].set_title('Initial Guess for Optimizer\\n(known forces)')\n",
    "\n",
    "fig.tight_layout()\n",
    "plt.show()\n",
    "\n",
    "print(f'Absolute error (entire system): {np.sum(estimatedPhotoelasticChannel - photoelasticChannel)}')"
   ]
  },
  {
   "cell_type": "markdown",
   "id": "573c3b08-0b45-4e17-b7f8-d14f764ab2d0",
   "metadata": {},
   "source": [
    "## Optimize forces"
   ]
  },
  {
   "cell_type": "code",
   "execution_count": null,
   "id": "03ede456-5e3f-49ce-88a3-07fd59ce8984",
   "metadata": {},
   "outputs": [],
   "source": [
    "# Now optimize each particle's forces\n",
    "optimizedForceArr = []\n",
    "optimizedBetaArr = []\n",
    "optimizedAlphaArr = []\n",
    "resArr = []\n",
    "\n",
    "optimizationKwargs = {\"maxEvals\": [100, 200, 100], \"method\": 'nelder',\n",
    "                      \"parametersToFit\": [['f'], ['f', 'a'], ['a']],\n",
    "                      \"allowRemoveForces\": True, \"useTolerance\": False,\n",
    "                      \"allowAddForces\": True, \"minForceThreshold\": .01,\n",
    "                      \"localizeAlphaOptimization\": False, \"imageScaleFactor\": .5,\n",
    "                      \"forceBalanceWeighting\": .05}\n",
    "\n",
    "for i in range(len(centers)):\n",
    "    optForceArr, optBetaArr, optAlphaArr, res = forceOptimize(forceGuessArr[i], betaGuessArr[i], alphaGuessArr[i],\n",
    "                                                              radii[i], centers[i], photoelasticChannel, fSigma, pxPerMeter, brightfield,\n",
    "                                                              **optimizationKwargs, debug=True)\n",
    "    optimizedForceArr.append(optForceArr)\n",
    "    optimizedBetaArr.append(optBetaArr)\n",
    "    optimizedAlphaArr.append(optAlphaArr)\n",
    "    resArr.append(res)\n",
    "\n",
    "for res in resArr:\n",
    "    plt.plot(res)\n",
    "\n",
    "plt.show()"
   ]
  },
  {
   "cell_type": "code",
   "execution_count": null,
   "id": "b8b27c6b-47c1-4893-9ff4-b57a3798ce2f",
   "metadata": {},
   "outputs": [],
   "source": [
    "fig, ax = plt.subplots(1, 2, figsize=(8,4))\n",
    "\n",
    "ax[0].imshow(photoelasticChannel * maskArr[:,:,0])\n",
    "ax[0].set_title('True photoelastic response\\n(unknown forces)')\n",
    "ax[0].set_xticks([])\n",
    "ax[0].set_yticks([])\n",
    "\n",
    "optimizedPhotoelasticChannel = np.zeros(photoelasticChannel.shape)\n",
    "\n",
    "for i in range(len(centers)):\n",
    "    optimizedPhotoelasticChannel += genSyntheticResponse(np.array(optimizedForceArr[i]),\n",
    "                                                         np.array(optimizedAlphaArr[i]),\n",
    "                                                         np.array(optimizedBetaArr[i]),\n",
    "                                                         fSigma, radii[i], pxPerMeter, brightfield,\n",
    "                                                         imageSize=photoelasticChannel.shape, center=centers[i])\n",
    "\n",
    "\n",
    "ax[1].imshow(optimizedPhotoelasticChannel)\n",
    "ax[1].set_title('Optimized photoelastic response\\n(known forces)')\n",
    "ax[1].set_xticks([])\n",
    "ax[1].set_yticks([])\n",
    "\n",
    "fig.tight_layout()\n",
    "#plt.savefig('../images/example_uses/space_jam_test.png')\n",
    "plt.show()\n",
    "\n",
    "print(f'Absolute error (entire system): {np.sum(optimizedPhotoelasticChannel - photoelasticChannel)}')"
   ]
  },
  {
   "cell_type": "code",
   "execution_count": null,
   "id": "018ebfb4-f909-41c8-b9c8-51c48170f7f4",
   "metadata": {},
   "outputs": [],
   "source": [
    "optimizedForceArr"
   ]
  },
  {
   "cell_type": "code",
   "execution_count": null,
   "id": "020e78be-f015-4b4a-aab7-d8f02c06c8af",
   "metadata": {},
   "outputs": [],
   "source": [
    "optimizedAlphaArr"
   ]
  },
  {
   "cell_type": "code",
   "execution_count": null,
   "id": "904e4175-dd15-42b7-9191-5c4a47a98527",
   "metadata": {},
   "outputs": [],
   "source": []
  }
 ],
 "metadata": {
  "kernelspec": {
   "display_name": "Python 3 (ipykernel)",
   "language": "python",
   "name": "python3"
  },
  "language_info": {
   "codemirror_mode": {
    "name": "ipython",
    "version": 3
   },
   "file_extension": ".py",
   "mimetype": "text/x-python",
   "name": "python",
   "nbconvert_exporter": "python",
   "pygments_lexer": "ipython3",
   "version": "3.7.13"
  }
 },
 "nbformat": 4,
 "nbformat_minor": 5
}

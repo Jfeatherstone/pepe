{
 "cells": [
  {
   "cell_type": "code",
   "execution_count": null,
   "id": "1b0cfe83-9a5c-4412-9f06-070bad7d1a73",
   "metadata": {},
   "outputs": [],
   "source": [
    "import platform\n",
    "platform.python_version()"
   ]
  },
  {
   "cell_type": "code",
   "execution_count": null,
   "id": "0965c7fa-bf3c-473a-bd5c-4518001254a1",
   "metadata": {},
   "outputs": [],
   "source": [
    "# My custom library of photoelastic tools\n",
    "import sys\n",
    "sys.path.append('/home/jack/workspaces/jupyter-workspace/pepe/')\n",
    "\n",
    "from pepe.preprocess import circularMask\n",
    "from pepe.simulate import genSyntheticResponse\n",
    "from pepe.analysis import singleParticleForceBalance\n",
    "\n",
    "# Compare against Olivier's code\n",
    "sys.path.append('/home/jack/workspaces/jupyter-workspace/pegs_py')\n",
    "import StressEngineC.StressEngineC as SEC\n",
    "\n",
    "# Compare against Jonathan's code\n",
    "import matlab.engine\n",
    "import matlab\n",
    "eng = matlab.engine.start_matlab()\n",
    "sys.path.append('/home/jack/workspaces/matlab-workspace/PEGS/')\n",
    "import numpy as np\n",
    "\n",
    "import numba\n",
    "from PIL import Image\n",
    "\n",
    "import matplotlib.pyplot as plt\n",
    "plt.rcParams['figure.dpi'] = 140\n",
    "\n",
    "# For timing\n",
    "import time"
   ]
  },
  {
   "cell_type": "code",
   "execution_count": null,
   "id": "b200bf99-988a-4ee1-811d-0fcc876cb45c",
   "metadata": {},
   "outputs": [],
   "source": [
    "# Create a fake particle\n",
    "radius = 200\n",
    "\n",
    "imageShape = (500, 500)\n",
    "center = np.array([imageShape[0]/2., imageShape[1]/2.])\n",
    "\n",
    "cMask = circularMask(imageShape, center, radius)[:,:,0]\n",
    "\n",
    "# Find all points inside the particle (on the grid)\n",
    "gridPoints = np.transpose(np.where(cMask > 0))\n",
    "# And relative to the center of the particle\n",
    "particlePoints = gridPoints - center\n",
    "\n",
    "# Setup physical parameters\n",
    "# We have to be very careful about types, since Olivier's method is written\n",
    "# in native C and compiled with Cython, which does not have the best\n",
    "# type-conversion interface (especially compared to numba :) )\n",
    "fSigma = 10.\n",
    "pxPerMeter = 1000.\n",
    "brightfield = int(False)\n",
    "\n",
    "forceArr = np.array([.2, .2], dtype=np.double) # [N]\n",
    "betaArr = np.array([0, -np.pi + .5], dtype=np.double) # [rad]\n",
    "alphaArr = np.array([.5, -.5], dtype=np.double) # [rad]\n",
    "\n",
    "#forceArr = np.zeros(100) + .1\n",
    "#betaArr = np.linspace(-np.pi, np.pi-.2, 100)\n",
    "#alphaArr = np.zeros(100)\n",
    "\n",
    "mForceArr = matlab.double(list(forceArr)) # [N]\n",
    "mBetaArr = matlab.double(list(betaArr)) # [rad]\n",
    "mAlphaArr = matlab.double(list(alphaArr)) # [rad]\n",
    "\n",
    "z = len(forceArr)"
   ]
  },
  {
   "cell_type": "code",
   "execution_count": null,
   "id": "8d8b4e38-cc68-4b79-b5f8-685b18ffe044",
   "metadata": {},
   "outputs": [],
   "source": [
    "# Time how long the genSyn method takes\n",
    "%timeit genSyntheticResponse(forceArr, alphaArr, betaArr, fSigma, radius, pxPerMeter, brightfield, imageSize=imageShape)"
   ]
  },
  {
   "cell_type": "code",
   "execution_count": null,
   "id": "df346a53-409f-4683-8794-42d0e5e2a41f",
   "metadata": {
    "tags": []
   },
   "outputs": [],
   "source": [
    "intensityArr = np.zeros([3, imageShape[0], imageShape[1]], dtype=np.float64)\n",
    "\n",
    "startTime = time.perf_counter()\n",
    "intensityArr[0] = genSyntheticResponse(forceArr, alphaArr, betaArr, fSigma, radius, pxPerMeter, brightfield, imageSize=imageShape)\n",
    "print(f'Jack\\'s finished in: {time.perf_counter() - startTime} seconds')\n",
    "    \n",
    "startTime = time.perf_counter()\n",
    "SEC.ForceImgC(z, forceArr, alphaArr, betaArr, fSigma, radius/pxPerMeter, imageShape[0], brightfield, intensityArr[1])\n",
    "intensityArr[1] = np.transpose(intensityArr[1])\n",
    "#for i in range(len(gridPoints)):\n",
    "#    intensityArr[1,gridPoints[i,0],gridPoints[i,1]] = SEC.StressEngineC(particlePoints[i,1]/pxPerMeter, particlePoints[i,0]/pxPerMeter, z, forceArr, alphaArr, betaArr, fSigma, radius/pxPerMeter, brightfield)\n",
    "print(f'Olivier\\'s finished in: {time.perf_counter() - startTime} seconds')\n",
    "\n",
    "startTime = time.perf_counter()\n",
    "# Note the transpose, since we want to flip the format to be [y,x] instead of [x,y]\n",
    "intensityArr[2] = np.transpose(eng.joForceFunc(z, mForceArr, mAlphaArr, mBetaArr, fSigma, radius/pxPerMeter, int(imageShape[0]), 1))\n",
    "print(f'Jonathan\\'s finished in: {time.perf_counter() - startTime} seconds')\n",
    "\n",
    "    \n",
    "intensityArr[intensityArr == 0] = -.2\n",
    "fig, ax = plt.subplots(1, 3, figsize=(10,4))\n",
    "\n",
    "for i in range(3):\n",
    "    ax[i].imshow(intensityArr[i], cmap=plt.get_cmap('summer'))\n",
    "    \n",
    "ax[0].set_title('Jack')\n",
    "ax[1].set_title('Olivier')\n",
    "ax[2].set_title('Jonathan')\n",
    "\n",
    "fig.tight_layout()\n",
    "plt.show()"
   ]
  },
  {
   "cell_type": "code",
   "execution_count": null,
   "id": "9deb7ad9-04bb-4009-839a-aaefc006c833",
   "metadata": {},
   "outputs": [],
   "source": [
    "# If all three of the objects are the same, this matrix should be all zeros\n",
    "np.subtract.outer(np.sum(intensityArr, axis=(-1, -2)), np.sum(intensityArr, axis=(-1, -2)))"
   ]
  },
  {
   "cell_type": "code",
   "execution_count": null,
   "id": "fa67fb01-2e13-4dcf-93aa-ae99e28b4da7",
   "metadata": {},
   "outputs": [],
   "source": [
    "radius = 240\n",
    "imageSize = np.array([500, 500])\n",
    "steps = 2000\n",
    "fps = 60\n",
    "\n",
    "images = [[] for i in range(steps)]\n",
    "\n",
    "for i in range(steps):\n",
    "    f = np.array([.05, .05]) * i\n",
    "    a = np.array([0., 0.])\n",
    "    b = np.array([0., -np.pi])\n",
    "    imageArr = np.zeros((imageSize[0], imageSize[1], 3), dtype=np.uint8)\n",
    "    imageArr[:,:,0] = np.uint8(255*genSyntheticResponse(f, a, b, fSigma, radius, pxPerMeter, imageSize=imageSize))\n",
    "    images[i] = Image.fromarray(imageArr)\n",
    "    \n",
    "images[0].save('calibration.gif', save_all=True, append_images=images[1:], duration=fps, optimize=True, loop=1)"
   ]
  },
  {
   "cell_type": "code",
   "execution_count": null,
   "id": "9e749db5-ea78-4317-80d7-9f642686fa62",
   "metadata": {},
   "outputs": [],
   "source": [
    "mask = circularMask(imageShape, center, radius/2)[:,:,0]\n",
    "maskedIntensity = genSyntheticResponse(forceArr, alphaArr, betaArr, fSigma, radius, pxPerMeter, brightfield, imageSize=imageShape, mask=mask)\n",
    "\n",
    "plt.imshow(maskedIntensity)\n",
    "plt.show()"
   ]
  },
  {
   "cell_type": "code",
   "execution_count": null,
   "id": "f89cf406-bc94-412b-b69d-499c5db5820f",
   "metadata": {},
   "outputs": [],
   "source": [
    "# Time how long the genSyn method takes\n",
    "%timeit genSyntheticResponse(forceArr, alphaArr, betaArr, fSigma, radius, pxPerMeter, brightfield, imageSize=imageShape, mask=mask)"
   ]
  },
  {
   "cell_type": "code",
   "execution_count": null,
   "id": "f146b7ef-46c9-4279-9b0b-738b140f7e23",
   "metadata": {},
   "outputs": [],
   "source": [
    "# Now test that the force balancing works\n",
    "\n",
    "forceArr = np.array([1., 1.], dtype=np.double) # [N]\n",
    "betaArr = np.array([0., -2.8], dtype=np.double) # [rad]\n",
    "alphaArr = np.array([0., 0.], dtype=np.double) # [rad]\n",
    "\n",
    "mForceArr = matlab.double(list(forceArr)) # [N]\n",
    "mBetaArr = matlab.double(list(betaArr)) # [rad]\n",
    "mAlphaArr = matlab.double(list(alphaArr)) # [rad]\n",
    "\n",
    "fig, ax = plt.subplots(1, 3, figsize=(11,4))\n",
    "\n",
    "pepeResponse = genSyntheticResponse(forceArr, alphaArr, betaArr, fSigma, radius, pxPerMeter, brightfield, imageSize=imageShape)\n",
    "\n",
    "pepeBalancedForce, pepeBalancedAlpha = singleParticleForceBalance(forceArr, alphaArr, betaArr)\n",
    "pepeBalancedResponse = genSyntheticResponse(pepeBalancedForce, pepeBalancedAlpha, betaArr, fSigma, radius, pxPerMeter, brightfield, imageSize=imageShape)\n",
    "\n",
    "print(pepeBalancedForce)\n",
    "print(pepeBalancedAlpha)\n",
    "\n",
    "res = eng.forceBalance(mForceArr, mBetaArr, mAlphaArr)\n",
    "\n",
    "print(res)\n",
    "\n",
    "ax[0].imshow(pepeResponse)\n",
    "ax[0].set_title('Original forces')\n",
    "\n",
    "ax[1].imshow(pepeBalancedResponse)\n",
    "ax[1].set_title('Balanced forces (Jack)')\n",
    "\n",
    "\n",
    "plt.show()"
   ]
  },
  {
   "cell_type": "code",
   "execution_count": null,
   "id": "4823ee90-0e44-4ab1-9906-c60cfff35160",
   "metadata": {},
   "outputs": [],
   "source": []
  }
 ],
 "metadata": {
  "kernelspec": {
   "display_name": "Python 3 (ipykernel)",
   "language": "python",
   "name": "python3"
  },
  "language_info": {
   "codemirror_mode": {
    "name": "ipython",
    "version": 3
   },
   "file_extension": ".py",
   "mimetype": "text/x-python",
   "name": "python",
   "nbconvert_exporter": "python",
   "pygments_lexer": "ipython3",
   "version": "3.7.11"
  }
 },
 "nbformat": 4,
 "nbformat_minor": 5
}

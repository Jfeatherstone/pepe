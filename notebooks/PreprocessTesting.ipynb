{
 "cells": [
  {
   "cell_type": "code",
   "execution_count": 3,
   "id": "4ad3c6a3",
   "metadata": {},
   "outputs": [],
   "source": [
    "import numpy as np\n",
    "import matplotlib.pyplot as plt\n",
    "\n",
    "import cv2\n",
    "\n",
    "import sys\n",
    "sys.path.append('../')\n",
    "import pepe"
   ]
  },
  {
   "cell_type": "code",
   "execution_count": 4,
   "id": "804633da",
   "metadata": {},
   "outputs": [],
   "source": [
    "testVideo = cv2.VideoCapture('test_data/EMPANADA/Day1-Lunar-210mms.mov')"
   ]
  },
  {
   "cell_type": "code",
   "execution_count": 11,
   "id": "53bc34f7",
   "metadata": {},
   "outputs": [
    {
     "data": {
      "text/plain": [
       "True"
      ]
     },
     "execution_count": 11,
     "metadata": {},
     "output_type": "execute_result"
    }
   ],
   "source": [
    "numFrames = int(testVideo.get(cv2.CAP_PROP_FRAME_COUNT))\n",
    "\n",
    "while testVideo.isOpened():\n",
    "    ret, frame = testVideo.read()\n",
    "    \n",
    "    if ret:\n",
    "        cv2.imshow('video', frame)\n",
    "        \n",
    "        cv2.waitKey(25)\n",
    "    else:\n",
    "        break\n",
    "        \n",
    "cv2.destroyAllWindows()\n",
    "testVideo.set(cv2.CAP_PROP_POS_FRAMES, 0)"
   ]
  },
  {
   "cell_type": "code",
   "execution_count": null,
   "id": "5863f64b",
   "metadata": {},
   "outputs": [],
   "source": []
  },
  {
   "cell_type": "code",
   "execution_count": null,
   "id": "4e8d1733",
   "metadata": {},
   "outputs": [],
   "source": []
  }
 ],
 "metadata": {
  "kernelspec": {
   "display_name": "Python 3",
   "language": "python",
   "name": "python3"
  },
  "language_info": {
   "codemirror_mode": {
    "name": "ipython",
    "version": 3
   },
   "file_extension": ".py",
   "mimetype": "text/x-python",
   "name": "python",
   "nbconvert_exporter": "python",
   "pygments_lexer": "ipython3",
   "version": "3.9.5"
  }
 },
 "nbformat": 4,
 "nbformat_minor": 5
}

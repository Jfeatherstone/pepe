{
 "cells": [
  {
   "cell_type": "code",
   "execution_count": null,
   "id": "35eeb49e-6875-46eb-9bb2-41cee9350246",
   "metadata": {},
   "outputs": [],
   "source": [
    "# My custom library of photoelastic tools\n",
    "import sys\n",
    "sys.path.append('/home/jack/workspaces/jupyter-workspace/pepe/')\n",
    "\n",
    "from pepe.preprocess import circularMask, crossMask, rectMask, mergeMasks, checkImageType\n",
    "from pepe.simulate import genSyntheticResponse\n",
    "from pepe.analysis import detectWallContacts\n",
    "\n",
    "import numpy as np\n",
    "\n",
    "import matplotlib.pyplot as plt\n",
    "plt.rcParams['figure.dpi'] = 140\n",
    "\n",
    "# For timing\n",
    "import time"
   ]
  },
  {
   "cell_type": "code",
   "execution_count": null,
   "id": "04092d21-976a-42cd-9ac5-93dc25f4d153",
   "metadata": {},
   "outputs": [],
   "source": [
    "# Make some fake data with several potential wall contacts\n",
    "fig, ax = plt.subplots()\n",
    "\n",
    "imageShape = (1024, 1280, 3)\n",
    "\n",
    "# Create a cross-shaped channel\n",
    "maskArr = crossMask(imageShape, xlim=np.array([460, 810]), ylim=np.array([350, 700]))\n",
    "\n",
    "# Now we'll add some extra boundary regions, and merge them with the cross mask\n",
    "#listOfMasks = np.array([maskArr,\n",
    "#                       rectMask(imageShape, corner=np.array([300,0]), dimensions=np.array([500, 75]))])\n",
    "#maskArr = mergeMasks(listOfMasks, signs=np.array([1,-1], dtype=np.int16))\n",
    "\n",
    "centers = np.array([[524, 253], [524, 1050], [400, 645]])\n",
    "radii = np.array([175, 175, 175])\n",
    "\n",
    "ax.imshow(maskArr*255)\n",
    "for i in range(len(centers)):\n",
    "    c = plt.Circle(centers[i][::-1], radii[i], label='Detected particles', color='orange')\n",
    "    ax.add_artist(c)\n",
    "ax.legend()\n",
    "plt.show()"
   ]
  },
  {
   "cell_type": "code",
   "execution_count": null,
   "id": "0b2b269d-5cc8-47c2-9614-33f03aa55729",
   "metadata": {},
   "outputs": [],
   "source": [
    "# Actual contact detection\n",
    "numContacts, betaArr, g2AvgArr = detectWallContacts(centers, radii, maskArr, contactPadding=5)\n",
    "\n",
    "# Draw on all of the found boundary contacts\n",
    "fig, ax = plt.subplots()\n",
    "\n",
    "ax.imshow(maskArr*255)\n",
    "\n",
    "for i in range(len(centers)):\n",
    "    # particle itself\n",
    "    c = plt.Circle(centers[i][::-1], radii[i], label='Detected particle', color='orange')\n",
    "    ax.add_artist(c)\n",
    "    \n",
    "    # Now add contacts\n",
    "    for j in range(numContacts[i]):\n",
    "        contactPoint = centers[i] + radii[i] * np.array([np.cos(betaArr[i][j]), np.sin(betaArr[i][j])])\n",
    "        cc = plt.Circle(contactPoint[::-1], 20, color='red')\n",
    "        ax.add_artist(cc)\n",
    "ax.legend()\n",
    "plt.show()"
   ]
  },
  {
   "cell_type": "code",
   "execution_count": null,
   "id": "a50738e5-bcc0-4109-8ab8-6ec69f31e091",
   "metadata": {},
   "outputs": [],
   "source": [
    "betaArr"
   ]
  },
  {
   "cell_type": "code",
   "execution_count": null,
   "id": "940cc0eb-de99-4e18-b693-605726f7c224",
   "metadata": {},
   "outputs": [],
   "source": []
  }
 ],
 "metadata": {
  "kernelspec": {
   "display_name": "Python 3 (ipykernel)",
   "language": "python",
   "name": "python3"
  },
  "language_info": {
   "codemirror_mode": {
    "name": "ipython",
    "version": 3
   },
   "file_extension": ".py",
   "mimetype": "text/x-python",
   "name": "python",
   "nbconvert_exporter": "python",
   "pygments_lexer": "ipython3",
   "version": "3.7.11"
  }
 },
 "nbformat": 4,
 "nbformat_minor": 5
}

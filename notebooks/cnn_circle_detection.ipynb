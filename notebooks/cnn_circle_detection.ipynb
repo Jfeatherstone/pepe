{
 "cells": [
  {
   "cell_type": "code",
   "execution_count": null,
   "id": "bc12c2bc-bdff-418c-ac07-4b8db179cc28",
   "metadata": {},
   "outputs": [],
   "source": [
    "import numpy as np\n",
    "import matplotlib.pyplot as plt\n",
    "plt.rcParams[\"figure.dpi\"] = 120\n",
    "import numba\n",
    "\n",
    "import tensorflow.keras as keras\n",
    "from tensorflow.keras import Model\n",
    "from tensorflow.keras import Sequential\n",
    "from tensorflow.keras.layers import Conv2D\n",
    "from tensorflow.keras import optimizers\n",
    "\n",
    "from IPython.display import clear_output\n",
    "\n",
    "from PIL import Image"
   ]
  },
  {
   "cell_type": "code",
   "execution_count": null,
   "id": "29e4c02e-123a-4c1b-820b-24d0ec587ec7",
   "metadata": {},
   "outputs": [],
   "source": [
    "def genTrainingImages(imgSize, N, minCircles=1, maxCircles=4, minRadius=125, maxRadius=200, overlap=False, noise=1):\n",
    "    img = np.zeros((N, *imgSize))\n",
    "    numCircles = np.random.randint(minCircles, maxCircles, size=N)\n",
    "    \n",
    "    circleCentersX = np.random.randint(0, imgSize[0], size=N)\n",
    "    circleCentersY = np.random.randint(0, imgSize[1], size=N)\n",
    "    \n",
    "    Y = np.arange(imgSize[0]).reshape((imgSize[0], 1)) # Column vector\n",
    "    X = np.arange(imgSize[1]).reshape((1, imgSize[1])) # Row vector\n",
    "    \n",
    "    # Generate the circles\n",
    "    for i in range(N):\n",
    "        radii = np.random.uniform(minRadius, maxRadius, size=numCircles[i])\n",
    "        j = 0\n",
    "        while j < numCircles[i]:\n",
    "            yC, xC = np.random.randint(0, imgSize[0]), np.random.randint(0, imgSize[1])\n",
    "            newCircle = ((X - xC)**2 + (Y - yC)**2) < radii[j]**2\n",
    "            # Make sure circles don't overlap\n",
    "            if np.max(img[i] + newCircle) == 1:\n",
    "                img[i] += newCircle\n",
    "                j += 1\n",
    "                \n",
    "    # Now add noise\n",
    "    noisyImg = img + np.random.uniform(0.01*noise, noise, size=img.shape)\n",
    "    \n",
    "    return noisyImg, img"
   ]
  },
  {
   "cell_type": "code",
   "execution_count": null,
   "id": "4c38b6b8-2c61-4b97-a148-46cb80435b54",
   "metadata": {},
   "outputs": [],
   "source": [
    "noisyImg, img = genTrainingImages((500, 500), 3, 5, 6, 50, 50, noise=1)\n",
    "\n",
    "for i in range(len(noisyImg)):\n",
    "    Image.fromarray(255*(1-noisyImg[i]).convert('L').save(f'../test_circles_{i+1}.bmp')\n",
    "\n",
    "fig, ax = plt.subplots(1, 2, figsize=(8,4))\n",
    "\n",
    "ax[0].imshow(img[0])\n",
    "ax[1].imshow(noisyImg[0])\n",
    "plt.show()"
   ]
  },
  {
   "cell_type": "code",
   "execution_count": null,
   "id": "81003634-b1b2-4b72-9f9e-2089f101a2da",
   "metadata": {},
   "outputs": [],
   "source": [
    "# Set up the neural network\n",
    "network = Sequential()\n",
    "\n",
    "# 5x5 kernel size, 10 channels in first hidden layer:\n",
    "network.add(Conv2D(32, 11, input_shape=(None,None,1),\n",
    "               activation=\"relu\", padding='same'))\n",
    "\n",
    "# 5x5 kernel size, 10 channels\n",
    "network.add(Conv2D(64, 11, activation=\"relu\", padding='same'))\n",
    "# 5x5 kernel size, 5 channels\n",
    "network.add(Conv2D(64, 11, activation=\"relu\", padding='same'))\n",
    "# 5x5 kernel size, 5 channels\n",
    "network.add(Conv2D(32, 11, activation=\"relu\", padding='same'))\n",
    "\n",
    "# 5x5 kernel size, only 1 channel in last hidden layer:\n",
    "network.add(Conv2D(1, 11, activation=\"sigmoid\", padding='same'))\n",
    "\n",
    "network.compile(loss='mean_squared_error', optimizer='adam')"
   ]
  },
  {
   "cell_type": "code",
   "execution_count": null,
   "id": "13031f91-c957-4f0d-97d6-dd789887ba84",
   "metadata": {},
   "outputs": [],
   "source": [
    "batchSize = 30\n",
    "epochs = 1000\n",
    "\n",
    "costArr = np.zeros(epochs)\n",
    "\n",
    "for i in range(epochs):\n",
    "    noisyImg, img = genTrainingImages((512, 640), batchSize+1, noise=5, minRadius=30, maxRadius=60, minCircles=1, maxCircles=10)\n",
    "    \n",
    "    costArr[i] = network.train_on_batch(noisyImg[:-1], img[:-1])\n",
    "    \n",
    "    clear_output(wait=True)\n",
    "    fig, ax = plt.subplots(1, 4, figsize=(15,5))\n",
    "    \n",
    "    ax[0].plot(costArr[:i+1])\n",
    "    ax[0].set_ylabel('Cost')\n",
    "    ax[0].set_xlabel('Epoch')\n",
    "    ax[0].set_yscale('log')\n",
    "    \n",
    "    ax[1].imshow(img[-1])\n",
    "    ax[1].set_title('Validation image')\n",
    "    \n",
    "    ax[2].imshow(noisyImg[-1])\n",
    "    ax[2].set_title('Input image')\n",
    "\n",
    "    ax[3].imshow(network.predict(noisyImg[-1,:,:,None])[:,:,0,0])\n",
    "    ax[3].set_title('Network prediction')\n",
    "    \n",
    "    fig.tight_layout()\n",
    "    plt.savefig('cnn_detection_status.png')\n",
    "    plt.show()"
   ]
  },
  {
   "cell_type": "code",
   "execution_count": null,
   "id": "3b651c0d-4519-4007-9a7a-c06a52cd04c8",
   "metadata": {},
   "outputs": [],
   "source": []
  },
  {
   "cell_type": "code",
   "execution_count": null,
   "id": "09cbc5e7-8867-43ca-a2a2-944dbead8aa0",
   "metadata": {},
   "outputs": [],
   "source": []
  }
 ],
 "metadata": {
  "kernelspec": {
   "display_name": "Python 3 (ipykernel)",
   "language": "python",
   "name": "python3"
  },
  "language_info": {
   "codemirror_mode": {
    "name": "ipython",
    "version": 3
   },
   "file_extension": ".py",
   "mimetype": "text/x-python",
   "name": "python",
   "nbconvert_exporter": "python",
   "pygments_lexer": "ipython3",
   "version": "3.7.13"
  }
 },
 "nbformat": 4,
 "nbformat_minor": 5
}

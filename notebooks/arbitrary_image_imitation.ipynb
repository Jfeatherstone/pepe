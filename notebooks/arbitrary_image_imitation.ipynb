{
 "cells": [
  {
   "cell_type": "code",
   "execution_count": null,
   "id": "2c09147d-673c-4059-8176-0c816134d941",
   "metadata": {},
   "outputs": [],
   "source": [
    "# My custom library of photoelastic tools\n",
    "import sys\n",
    "#sys.path.append('/home/jack/workspaces/jupyter-workspace/pepe/')\n",
    "sys.path.append('/eno/jdfeathe/pepe/')\n",
    "\n",
    "from pepe.preprocess import circularMask\n",
    "from pepe.simulate import genSyntheticResponse\n",
    "from pepe.analysis import forceOptimize\n",
    "\n",
    "import numpy as np\n",
    "import pickle\n",
    "\n",
    "#from scipy.optimize import minimize, leastsq\n",
    "from lmfit import minimize, Parameters, fit_report\n",
    "\n",
    "import matplotlib.pyplot as plt\n",
    "plt.rcParams['figure.dpi'] = 140\n",
    "\n",
    "from IPython.display import clear_output\n",
    "\n",
    "from PIL import Image, ImageDraw, ImageFont # For creating our text\n",
    "\n",
    "# For timing\n",
    "import time"
   ]
  },
  {
   "cell_type": "code",
   "execution_count": null,
   "id": "aa3c46bc-f309-4a3d-bebc-03b47a60f5e1",
   "metadata": {},
   "outputs": [],
   "source": [
    "imageShape = (513, 641)\n",
    "center = np.array([imageShape[0]/2, imageShape[1]/2], dtype=np.int64)\n",
    "radius = 201\n",
    "\n",
    "# Generate a fake particle image with text inside of it\n",
    "text = \"J\"\n",
    "\n",
    "font = ImageFont.truetype(\"RabentoBlack.otf\",200)\n",
    "\n",
    "# Create a blank image any draw our text on it\n",
    "image = Image.new(\"RGB\", imageShape[::-1])\n",
    "draw = ImageDraw.Draw(image)\n",
    "\n",
    "textWidth, textHeight = draw.textsize(text, font)\n",
    "\n",
    "draw.text((imageShape[1]/2 - textWidth/2, imageShape[0]/2 - textHeight/2-20), text, font=font)\n",
    "\n",
    "imageArr = np.array(image)[:,:,0] / 255\n",
    "\n",
    "imageArr = imageArr * circularMask(imageShape, center, radius)[:,:,0]\n",
    "\n",
    "plt.imshow(imageArr)\n",
    "plt.colorbar()\n",
    "plt.show()"
   ]
  },
  {
   "cell_type": "code",
   "execution_count": null,
   "id": "75a064d9-1bb0-4e87-ad8c-900dd89870fe",
   "metadata": {},
   "outputs": [],
   "source": [
    "numForces = 25\n",
    "fSigma = 100.\n",
    "pxPerMeter = 10000.\n",
    "brightfield = True\n",
    "\n",
    "forceGuessArr = np.zeros(numForces) + .1\n",
    "alphaGuessArr = np.zeros(numForces)\n",
    "betaGuessArr = np.linspace(np.pi, -np.pi+.1, numForces)\n",
    "\n",
    "synImage = genSyntheticResponse(forceGuessArr, alphaGuessArr, betaGuessArr, fSigma, radius, pxPerMeter, brightfield, imageSize=imageShape, center=center)\n",
    "\n",
    "plt.imshow(synImage)\n",
    "plt.colorbar()\n",
    "plt.show()"
   ]
  },
  {
   "cell_type": "code",
   "execution_count": null,
   "id": "b402a771-2b0b-4714-87cc-a19c497bc700",
   "metadata": {},
   "outputs": [],
   "source": [
    "optForceArr = forceGuessArr.copy()\n",
    "optBetaArr = betaGuessArr.copy()\n",
    "optAlphaArr = alphaGuessArr.copy()\n",
    "\n",
    "resArr = []\n",
    "saveInterval = 10\n",
    "iterations = 0"
   ]
  },
  {
   "cell_type": "code",
   "execution_count": null,
   "id": "73830d36-4425-4c3d-887d-88c040bc6101",
   "metadata": {},
   "outputs": [],
   "source": [
    "with open('force_alpha_beta.pickle', 'rb') as f:\n",
    "    arr = pickle.load(f)\n",
    "\n",
    "optForceArr = arr[0]\n",
    "optAlphaArr = arr[1]\n",
    "optBetaArr = arr[2]"
   ]
  },
  {
   "cell_type": "code",
   "execution_count": null,
   "id": "16bbe06a-6fae-481b-b9b2-a249b20e1a8e",
   "metadata": {},
   "outputs": [],
   "source": [
    "while True:\n",
    "    # Now, try and optimize\n",
    "    optForceArr, optBetaArr, optAlphaArr, res = forceOptimize(optForceArr, optBetaArr, optAlphaArr, radius, center, imageArr,\n",
    "                                                              fSigma, pxPerMeter, brightfield, maxEvals=200, method='nelder',\n",
    "                                                              parametersToFit=['f', 'a'], forceTolerance=5., alphaTolerance=1.,\n",
    "                                                              allowRemoveForces=False, allowAddForces=False)\n",
    "\n",
    "    resArr = resArr + res\n",
    "    \n",
    "    clear_output(wait=True)\n",
    "    fig, ax = plt.subplots(1, 2, figsize=(8,4))\n",
    "    \n",
    "    optImage = genSyntheticResponse(optForceArr, optAlphaArr, optBetaArr, fSigma, radius, pxPerMeter, brightfield, imageSize=imageShape, center=center)\n",
    "\n",
    "    ax[0].plot(resArr)\n",
    "    ax[0].set_yscale('log')\n",
    "    ax[1].imshow(optImage)\n",
    "    \n",
    "    fig.tight_layout()\n",
    "    plt.show()\n",
    "    \n",
    "    if iterations % saveInterval == 0:\n",
    "        with open('force_alpha_beta.pickle', 'wb') as f:\n",
    "            pickle.dump([optForceArr, optAlphaArr, optBetaArr], f)\n",
    "    \n",
    "    iterations += 1"
   ]
  },
  {
   "cell_type": "code",
   "execution_count": null,
   "id": "a027dbd4-1e1d-4959-9d04-e91392150ba0",
   "metadata": {},
   "outputs": [],
   "source": [
    "optImage = genSyntheticResponse(optForceArr, optAlphaArr, optBetaArr, fSigma, radius, pxPerMeter, brightfield, imageSize=imageShape, center=center)\n",
    "\n",
    "plt.imshow(optImage)\n",
    "plt.show()"
   ]
  },
  {
   "cell_type": "code",
   "execution_count": null,
   "id": "5adea6a1-6baa-400f-8eca-d2f0bf48a015",
   "metadata": {},
   "outputs": [],
   "source": []
  }
 ],
 "metadata": {
  "kernelspec": {
   "display_name": "Python 3 (ipykernel)",
   "language": "python",
   "name": "python3"
  },
  "language_info": {
   "codemirror_mode": {
    "name": "ipython",
    "version": 3
   },
   "file_extension": ".py",
   "mimetype": "text/x-python",
   "name": "python",
   "nbconvert_exporter": "python",
   "pygments_lexer": "ipython3",
   "version": "3.7.11"
  }
 },
 "nbformat": 4,
 "nbformat_minor": 5
}

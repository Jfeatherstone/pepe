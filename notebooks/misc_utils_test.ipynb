{
 "cells": [
  {
   "cell_type": "code",
   "execution_count": null,
   "id": "17afb967-3dde-4819-b0f4-8fd79ca8d3e4",
   "metadata": {},
   "outputs": [],
   "source": [
    "import numpy as np\n",
    "import matplotlib.pyplot as plt\n",
    "plt.rcParams[\"figure.dpi\"] = 140\n",
    "import sys\n",
    "#sys.path.append('/home/jack/workspaces/jupyter-workspace/pepe/')\n",
    "sys.path.append('/eno/jdfeathe/pepe/')\n",
    "\n",
    "from pepe.utils import preserveOrderSort, preserveOrderArgsort, parseList\n",
    "from pepe.analysis import g2ForceCalibration\n",
    "from pepe.preprocess import circularMask, upsample, downsample, checkImageType"
   ]
  },
  {
   "cell_type": "code",
   "execution_count": null,
   "id": "3220a292-b15f-44eb-8a2f-339a969d88d9",
   "metadata": {},
   "outputs": [],
   "source": [
    "a = [1.0, 3.0, 6.0, 8.0, 12., 50., 13.]\n",
    "b = [1.2, 6.2, 8.1, 2.9, 45., 13, 14]\n",
    "\n",
    "c = [[1, 2], [4, 5], [2.5, 6.5], [12., 18.]]\n",
    "d = [[1.2, 2.1], [2., 7.], [5., 4.5], [None, None]]\n",
    "\n",
    "e = [3, None, None, None]\n",
    "f = [1.1, 3.1, 2.5]"
   ]
  },
  {
   "cell_type": "code",
   "execution_count": null,
   "id": "209f8923-91f3-4b4b-9cca-85fff1b7f1ae",
   "metadata": {},
   "outputs": [],
   "source": [
    "preserveOrderArgsort(f, e, True, fillNanSpots=False)"
   ]
  },
  {
   "cell_type": "code",
   "execution_count": null,
   "id": "87b21920-22c5-47c9-8ad8-d470dba2416a",
   "metadata": {},
   "outputs": [],
   "source": [
    "preserveOrderSort(d, c, True, fillNanSpots=True)"
   ]
  },
  {
   "cell_type": "code",
   "execution_count": null,
   "id": "3d75a81c-ef35-4a19-8ba4-b5d004267121",
   "metadata": {},
   "outputs": [],
   "source": [
    "%timeit g2ForceCalibration(100, 150, 10000)"
   ]
  },
  {
   "cell_type": "code",
   "execution_count": null,
   "id": "fe26d9dd-b9fa-4a59-bb5d-8d7f7c3fae8b",
   "metadata": {},
   "outputs": [],
   "source": [
    "mask = circularMask((512, 640), np.array([-30, -10]), 50)[:,:,0]\n",
    "\n",
    "plt.imshow(mask)\n",
    "plt.show()"
   ]
  },
  {
   "cell_type": "code",
   "execution_count": null,
   "id": "480aeb3c-622e-4088-83aa-afa5d4b785dc",
   "metadata": {},
   "outputs": [],
   "source": [
    "image = checkImageType('test_data/Mid_Saturation.bmp')\n",
    "\n",
    "fig, ax = plt.subplots(1, 3, figsize=(10, 4))\n",
    "\n",
    "ax[0].imshow(image)\n",
    "ax[1].imshow(upsample(image))\n",
    "ax[2].imshow(downsample(image))\n",
    "\n",
    "plt.show()"
   ]
  },
  {
   "cell_type": "code",
   "execution_count": null,
   "id": "14c230b4-a990-4962-8874-6270a2c77038",
   "metadata": {},
   "outputs": [],
   "source": [
    "%timeit upsample(image, 3, 'FSRCNN_Small')"
   ]
  },
  {
   "cell_type": "code",
   "execution_count": null,
   "id": "9f9f0011-106d-4a3f-80a8-3b189480406d",
   "metadata": {},
   "outputs": [],
   "source": [
    "%timeit downsample(image)"
   ]
  },
  {
   "cell_type": "code",
   "execution_count": null,
   "id": "36babb63-7f66-41cf-96dd-5ace772bda14",
   "metadata": {},
   "outputs": [],
   "source": [
    "strList1 = \"[1, 2, 3, 4]\"\n",
    "strList2 = \"['f', 'f', 'a', 'b']\"\n",
    "strList3 = \"[['f'], ['f', 'a'], ['a']]\"\n",
    "\n",
    "l = parseList(strList3)\n",
    "l"
   ]
  },
  {
   "cell_type": "code",
   "execution_count": null,
   "id": "181f0308-8d27-4478-85c3-26a8ef6b6178",
   "metadata": {},
   "outputs": [],
   "source": [
    "b1 = [-1.5830656497486941, 3.141592653589793, 0.0]\n",
    "b2 = [3.14159265, 0.        ]\n",
    "\n",
    "o = preserveOrderArgsort(b1, b2, fillNanSpots=False, padMissingValues=True, periodic=True)\n",
    "\n",
    "print(o)\n",
    "#np.array(b1)[o]"
   ]
  },
  {
   "cell_type": "code",
   "execution_count": null,
   "id": "d8362a55-ca65-414b-8581-58d696307f23",
   "metadata": {},
   "outputs": [],
   "source": [
    "plt.imshow(circularMask((100, 100), np.array([50.2, 49.7], dtype=np.float64), 24.5)*255)"
   ]
  },
  {
   "cell_type": "code",
   "execution_count": null,
   "id": "3367fa1f-3266-46d2-8c71-076b2118ea0e",
   "metadata": {},
   "outputs": [],
   "source": []
  }
 ],
 "metadata": {
  "kernelspec": {
   "display_name": "Python 3 (ipykernel)",
   "language": "python",
   "name": "python3"
  },
  "language_info": {
   "codemirror_mode": {
    "name": "ipython",
    "version": 3
   },
   "file_extension": ".py",
   "mimetype": "text/x-python",
   "name": "python",
   "nbconvert_exporter": "python",
   "pygments_lexer": "ipython3",
   "version": "3.7.11"
  }
 },
 "nbformat": 4,
 "nbformat_minor": 5
}

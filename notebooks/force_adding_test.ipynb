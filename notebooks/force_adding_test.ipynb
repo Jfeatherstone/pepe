{
 "cells": [
  {
   "cell_type": "code",
   "execution_count": null,
   "id": "6e5e7794-348c-4d6b-95d7-0ffa63ade8b0",
   "metadata": {},
   "outputs": [],
   "source": [
    "# My custom library of photoelastic tools\n",
    "import sys\n",
    "sys.path.append('/home/jack/workspaces/jupyter-workspace/pepe/')\n",
    "\n",
    "from pepe.preprocess import crossMask, checkImageType, rectMask, mergeMasks, circularMask\n",
    "from pepe.simulate import genSyntheticResponse\n",
    "from pepe.analysis import initialForceSolve, forceOptimize, gSquared\n",
    "from pepe.tracking import houghCircle\n",
    "\n",
    "from scipy.signal import find_peaks\n",
    "from lmfit import fit_report\n",
    "\n",
    "import numpy as np\n",
    "\n",
    "import cv2\n",
    "\n",
    "import matplotlib.pyplot as plt\n",
    "plt.rcParams['figure.dpi'] = 140\n",
    "\n",
    "# For timing\n",
    "import time"
   ]
  },
  {
   "cell_type": "code",
   "execution_count": null,
   "id": "19de923b-e764-41b4-b9d4-c2b3e44b8502",
   "metadata": {},
   "outputs": [],
   "source": [
    "# Make some fake data with several potential wall contacts\n",
    "fig, ax = plt.subplots(1, 2, figsize=(8, 4))\n",
    "\n",
    "image = checkImageType('test_data/Test_2022-01-28-1.bmp')\n",
    "#photoelasticChannel = cv2.blur(image[:,:,1], (30,30))\n",
    "# g2 to force conversion is calibrated on the scale [0, 1], not [0, 255]\n",
    "# We also blur the images a little, since they are visibly grainy\n",
    "photoelasticChannel = cv2.blur(image[:,:,1].astype(np.float64) / 255, (3,3))\n",
    "\n",
    "centers, radii = houghCircle(image[:,:,0], [160, 180], accumulatorThreshold=20, cannyEdgeThreshold=80)\n",
    "\n",
    "centers = centers.astype(np.int64)\n",
    "radii = radii.astype(np.int64)\n",
    "# Make them all odd\n",
    "radii += (radii % 2) == 0\n",
    "\n",
    "# A particle is about 1cm across\n",
    "pxPerMeter = 2*np.mean(radii) / .01\n",
    "# No idea what the actual value for this is\n",
    "fSigma = 100\n",
    "\n",
    "# Create a cross-shaped channel, with some parts on the ends\n",
    "maskArr = crossMask(image.shape, xlim=np.array([478, 818]), ylim=np.array([350, 690]))\n",
    "\n",
    "semiCircleMask = mergeMasks(np.array([rectMask(image.shape, corner=np.array([0,400]), dimensions=np.array([200, 500])),\n",
    "                             circularMask(image.shape, np.array([190, 640]), np.mean(radii)+7)]),\n",
    "                           signs=np.array([1,-1], dtype=np.int16)) \n",
    "\n",
    "semiCircleMask2 = mergeMasks(np.array([rectMask(image.shape, corner=np.array([0,400]), dimensions=np.array([200, 500])),\n",
    "                             circularMask(image.shape, np.array([190, 645]), np.mean(radii)+7)]),\n",
    "                           signs=np.array([1,-1], dtype=np.int16)) \n",
    "\n",
    "listOfMasks = np.array([maskArr,\n",
    "                       semiCircleMask,\n",
    "                       semiCircleMask2[::-1]])\n",
    "\n",
    "maskArr = mergeMasks(listOfMasks, signs=np.array([1,-1,-1], dtype=np.int16))\n",
    "\n",
    "\n",
    "ax[0].imshow(maskArr * image)\n",
    "for i in range(len(centers)):\n",
    "    c = plt.Circle(centers[i][::-1], radii[i], label='Detected particles', color='teal', fill=False, linewidth=1)\n",
    "    ax[0].add_artist(c)\n",
    "\n",
    "ax[1].imshow(photoelasticChannel * maskArr[:,:,0])\n",
    "plt.show()"
   ]
  },
  {
   "cell_type": "code",
   "execution_count": null,
   "id": "ab70b9de-f8a3-44de-bb81-6d56d0036c83",
   "metadata": {},
   "outputs": [],
   "source": [
    "fig, ax = plt.subplots()\n",
    "\n",
    "ax.imshow(maskArr[:,:,0])\n",
    "ax.set_xticks([])\n",
    "ax.set_yticks([])\n",
    "\n",
    "for i in range(len(centers)):\n",
    "    c = plt.Circle(centers[i][::-1], radii[i], label='Detected particles', color='teal', fill=False, linewidth=1)\n",
    "    ax.add_artist(c)\n",
    "\n",
    "\n",
    "ax.set_title('Example Mask')\n",
    "#ax.colorbar()\n",
    "#plt.savefig('../images/example_uses/example_mask.png')\n",
    "plt.show()"
   ]
  },
  {
   "cell_type": "markdown",
   "id": "298fae41-31f9-4848-8c17-54077e7f8a57",
   "metadata": {},
   "source": [
    "## Find initial guess"
   ]
  },
  {
   "cell_type": "code",
   "execution_count": null,
   "id": "5619190d-5cc3-4141-9f59-61e491690258",
   "metadata": {},
   "outputs": [],
   "source": [
    "# Parameters of our force solving method\n",
    "contactPadding = 15\n",
    "g2MaskPadding = 3\n",
    "contactMaskRadius = 30\n",
    "#pxPerMeter = 10000\n",
    "brightfield = False\n",
    "\n",
    "forceGuessArr, alphaGuessArr, betaGuessArr = initialForceSolve(photoelasticChannel,\n",
    "                                                centers, radii, fSigma, pxPerMeter,\n",
    "                                                contactPadding, g2MaskPadding,\n",
    "                                                contactMaskRadius=contactMaskRadius,\n",
    "                                                boundaryMask=maskArr, ignoreBoundary=False)\n",
    "\n",
    "#forceGuessArr /= np.max([np.max(f) for f in forceGuessArr])"
   ]
  },
  {
   "cell_type": "markdown",
   "id": "b3797aca-12f2-49e8-831d-42584cbb49dd",
   "metadata": {},
   "source": [
    "## Show initial guess"
   ]
  },
  {
   "cell_type": "code",
   "execution_count": null,
   "id": "a8cf808a-4b7f-4d5a-ab11-2f4004681026",
   "metadata": {},
   "outputs": [],
   "source": [
    "# Draw on all of the found contacts\n",
    "fig, ax = plt.subplots()\n",
    "\n",
    "ax.imshow(maskArr*255)\n",
    "\n",
    "for i in range(len(centers)):\n",
    "    # particle itself\n",
    "    c = plt.Circle(centers[i][::-1], radii[i], label='Detected particle', color='orange')\n",
    "    ax.add_artist(c)\n",
    "    \n",
    "    # Now add contacts\n",
    "    for j in range(len(betaGuessArr[i])):\n",
    "        contactPoint = centers[i] + radii[i] * np.array([np.cos(betaGuessArr[i][j]), np.sin(betaGuessArr[i][j])])\n",
    "        #linePoints = np.array([centers[i], radii[i] * np.array([np.cos(betaGuessArr[i][j]), np.sin(betaGuessArr[i][j])])])\n",
    "        #plt.plot(linePoints[0], linePoints[1], color='blue')\n",
    "        cc = plt.Circle(contactPoint[::-1], 20, color='red')\n",
    "        ax.add_artist(cc)\n",
    "        \n",
    "plt.show()"
   ]
  },
  {
   "cell_type": "code",
   "execution_count": null,
   "id": "96f88cc7-8326-45e7-9ab4-935fac50cd71",
   "metadata": {},
   "outputs": [],
   "source": [
    "fig, ax = plt.subplots(1, 2, figsize=(8,4))\n",
    "\n",
    "ax[0].imshow(photoelasticChannel * maskArr[:,:,0])\n",
    "ax[0].set_title('True photoelastic response\\n(unknown forces)')\n",
    "\n",
    "estimatedPhotoelasticChannel = np.zeros_like(photoelasticChannel, dtype=np.float64)\n",
    "\n",
    "for i in range(len(centers)):\n",
    "    estimatedPhotoelasticChannel += genSyntheticResponse(np.array(forceGuessArr[i]),\n",
    "                                                         np.array(alphaGuessArr[i]),\n",
    "                                                         np.array(betaGuessArr[i]),\n",
    "                                                         fSigma, radii[i],\n",
    "                                                         pxPerMeter, brightfield, imageSize=photoelasticChannel.shape,\n",
    "                                                         center=centers[i])\n",
    "\n",
    "\n",
    "ax[1].imshow(estimatedPhotoelasticChannel)\n",
    "ax[1].set_title('Initial Guess for Optimizer\\n(known forces)')\n",
    "\n",
    "fig.tight_layout()\n",
    "plt.show()\n",
    "\n",
    "print(f'Absolute error (entire system): {np.sum(estimatedPhotoelasticChannel - photoelasticChannel)}')"
   ]
  },
  {
   "cell_type": "markdown",
   "id": "573c3b08-0b45-4e17-b7f8-d14f764ab2d0",
   "metadata": {},
   "source": [
    "## Optimize forces"
   ]
  },
  {
   "cell_type": "code",
   "execution_count": null,
   "id": "03ede456-5e3f-49ce-88a3-07fd59ce8984",
   "metadata": {},
   "outputs": [],
   "source": [
    "# Now optimize each particle's forces\n",
    "optimizedForceArr = []\n",
    "optimizedBetaArr = []\n",
    "optimizedAlphaArr = []\n",
    "\n",
    "for i in range(len(centers)):\n",
    "    optForceArr, optBetaArr, optAlphaArr, res = forceOptimize(forceGuessArr[i], betaGuessArr[i], alphaGuessArr[i], radii[i], centers[i], photoelasticChannel,\n",
    "                                                              fSigma, pxPerMeter, brightfield, maxEvals=[250, 150], method='nelder',\n",
    "                                                              parametersToFit=[['f', 'a'], ['f', 'b']], betaTol=.4, forceTol=5., allowAddForces=True)\n",
    "    optimizedForceArr.append(optForceArr)\n",
    "    optimizedBetaArr.append(optBetaArr)\n",
    "    optimizedAlphaArr.append(optAlphaArr)"
   ]
  },
  {
   "cell_type": "code",
   "execution_count": null,
   "id": "b8b27c6b-47c1-4893-9ff4-b57a3798ce2f",
   "metadata": {},
   "outputs": [],
   "source": [
    "fig, ax = plt.subplots(1, 2, figsize=(8,4))\n",
    "\n",
    "ax[0].imshow(photoelasticChannel * maskArr[:,:,0])\n",
    "ax[0].set_title('True photoelastic response\\n(unknown forces)')\n",
    "ax[0].set_xticks([])\n",
    "ax[0].set_yticks([])\n",
    "\n",
    "optimizedPhotoelasticChannel = np.zeros(photoelasticChannel.shape)\n",
    "\n",
    "for i in range(len(centers)):\n",
    "    optimizedPhotoelasticChannel += genSyntheticResponse(np.array(optimizedForceArr[i]),\n",
    "                                                         np.array(optimizedAlphaArr[i]),\n",
    "                                                         np.array(optimizedBetaArr[i]),\n",
    "                                                         fSigma, radii[i], pxPerMeter, brightfield,\n",
    "                                                         imageSize=photoelasticChannel.shape, center=centers[i])\n",
    "\n",
    "\n",
    "ax[1].imshow(optimizedPhotoelasticChannel)\n",
    "ax[1].set_title('Optimized photoelastic response\\n(known forces)')\n",
    "ax[1].set_xticks([])\n",
    "ax[1].set_yticks([])\n",
    "\n",
    "fig.tight_layout()\n",
    "#plt.savefig('../images/example_uses/space_jam_test.png')\n",
    "plt.show()\n",
    "\n",
    "print(f'Absolute error (entire system): {np.sum(optimizedPhotoelasticChannel - photoelasticChannel)}')"
   ]
  },
  {
   "cell_type": "code",
   "execution_count": null,
   "id": "ce7ef91a-ad6e-4124-9aff-29f7bfa0bafc",
   "metadata": {},
   "outputs": [],
   "source": [
    "optimizedForceArr"
   ]
  },
  {
   "cell_type": "code",
   "execution_count": null,
   "id": "018ebfb4-f909-41c8-b9c8-51c48170f7f4",
   "metadata": {},
   "outputs": [],
   "source": [
    "# To try and identify missing forces, take the average g2 in a ring\n",
    "# around the edge of a particle\n",
    "testParticle = 0\n",
    "contactMaskRadius = 30.\n",
    "steps = 30\n",
    "newBetaTolerance = .3\n",
    "\n",
    "avgG2Arr = np.zeros(steps)\n",
    "betaArr = np.linspace(-np.pi, np.pi, steps)\n",
    "\n",
    "gSqr = gSquared(photoelasticChannel)\n",
    "particleMask = circularMask(photoelasticChannel.shape, centers[testParticle], radii[testParticle])[:,:,0]\n",
    "\n",
    "for i in range(steps):\n",
    "    contactPoint = centers[testParticle] + radii[testParticle] * np.array([np.cos(betaArr[i]), np.sin(betaArr[i])])\n",
    "    \n",
    "    contactMask = circularMask(photoelasticChannel.shape, contactPoint, contactMaskRadius)[:,:,0]\n",
    "    contactMask = (contactMask + particleMask) == 2\n",
    "    \n",
    "    avgG2Arr[i] = np.sum(contactMask * gSqr) / np.sum(contactMask)\n",
    "    \n",
    "peakIndArr = find_peaks(avgG2Arr, height=.0003)[0]\n",
    "peakIndArr = np.sort(peakIndArr)\n",
    "\n",
    "# Make sure that there aren't any artifacts of periodicity\n",
    "if np.arange(3).any() in peakIndArr and np.arange(len(avgG2Arr)-3, len(avgG2Arr)).any() in peakIndArr:\n",
    "    print('overlap')\n",
    "    # Remove last entry\n",
    "    peakIndArr = peakIndArr[:-1]\n",
    "    \n",
    "peakBetas = betaArr[peakIndArr]\n",
    "\n",
    "plt.plot(betaArr, avgG2Arr)\n",
    "\n",
    "for i in range(len(peakBetas)):\n",
    "    plt.axvline(peakBetas[i], linestyle='--')\n",
    "\n",
    "plt.show()"
   ]
  },
  {
   "cell_type": "code",
   "execution_count": null,
   "id": "020e78be-f015-4b4a-aab7-d8f02c06c8af",
   "metadata": {},
   "outputs": [],
   "source": [
    "# Now determine which of the found peaks is the most different\n",
    "# from the ones already on the particle\n",
    "oldBetaArr = betaGuessArr[testParticle]\n",
    "\n",
    "differenceArr = np.abs(np.subtract.outer(peakBetas, oldBetaArr))\n",
    "\n",
    "# Check to see if there is a new peak that doesn't have\n",
    "# a previous force close to it\n",
    "for i in range(len(peakBetas)):\n",
    "    if differenceArr[i].all() > newBetaTolerance:\n",
    "        # Add the new force"
   ]
  },
  {
   "cell_type": "code",
   "execution_count": null,
   "id": "904e4175-dd15-42b7-9191-5c4a47a98527",
   "metadata": {},
   "outputs": [],
   "source": [
    "# How do we identify when we need to add a force?\n",
    "testParticle = 3\n",
    "result = forceOptimize(forceGuessArr[testParticle], betaGuessArr[testParticle], alphaGuessArr[testParticle], radii[testParticle], centers[testParticle], photoelasticChannel,\n",
    "                                        fSigma, pxPerMeter, brightfield, maxEvals=150, method='nelder',\n",
    "                                        parametersToFit=['f', 'b'], betaTol=.4, returnOptResult=True)"
   ]
  },
  {
   "cell_type": "code",
   "execution_count": null,
   "id": "2415dbf3-5304-473e-bd47-31b56688c550",
   "metadata": {},
   "outputs": [],
   "source": [
    "print(fit_report(result))"
   ]
  },
  {
   "cell_type": "code",
   "execution_count": null,
   "id": "e9ae14e5-ba14-4cae-8c69-54762e9f5e0f",
   "metadata": {},
   "outputs": [],
   "source": [
    "result.chisqr"
   ]
  },
  {
   "cell_type": "code",
   "execution_count": null,
   "id": "56d88453-29aa-461c-a0ad-290e4bc82210",
   "metadata": {},
   "outputs": [],
   "source": []
  }
 ],
 "metadata": {
  "kernelspec": {
   "display_name": "Python 3 (ipykernel)",
   "language": "python",
   "name": "python3"
  },
  "language_info": {
   "codemirror_mode": {
    "name": "ipython",
    "version": 3
   },
   "file_extension": ".py",
   "mimetype": "text/x-python",
   "name": "python",
   "nbconvert_exporter": "python",
   "pygments_lexer": "ipython3",
   "version": "3.7.11"
  }
 },
 "nbformat": 4,
 "nbformat_minor": 5
}

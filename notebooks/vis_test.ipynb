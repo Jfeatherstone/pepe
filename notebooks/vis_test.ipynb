{
 "cells": [
  {
   "cell_type": "code",
   "execution_count": null,
   "id": "b1fbb64a-29ec-4425-bb0b-dab67405016b",
   "metadata": {},
   "outputs": [],
   "source": [
    "# My custom library of photoelastic tools\n",
    "import sys\n",
    "sys.path.append('/home/jack/workspaces/jupyter-workspace/pepe/')\n",
    "\n",
    "from pepe.visualize import visCircles, visContacts\n",
    "from pepe.visualize import genRandomDistancedColors\n",
    "\n",
    "import numpy as np\n",
    "\n",
    "import matplotlib.pyplot as plt\n",
    "plt.rcParams['figure.dpi'] = 140\n",
    "\n",
    "from IPython.display import clear_output"
   ]
  },
  {
   "cell_type": "code",
   "execution_count": null,
   "id": "09bdbd89-2d34-43a6-ade3-fdef80f664da",
   "metadata": {},
   "outputs": [],
   "source": [
    "centers = [[100, 200], [200, 300], [300, 150]]\n",
    "radii = [100, 75, 60]\n",
    "\n",
    "ax = visCircles(centers, radii, annotations=[1, 2, 3], setBounds=True)"
   ]
  },
  {
   "cell_type": "code",
   "execution_count": null,
   "id": "7e1896dd-fb48-4d67-ac3c-a45a9af1acce",
   "metadata": {},
   "outputs": [],
   "source": [
    "forceArr = [1, 3, 2]\n",
    "betaArr = [0, np.pi, 2]\n",
    "alphaArr = [0, 0, 0]\n",
    "\n",
    "c = centers[0]\n",
    "r = radii[0]\n",
    "\n",
    "ax = visContacts(c, r, alphaArr, betaArr, forceArr, setBounds=True)"
   ]
  },
  {
   "cell_type": "code",
   "execution_count": null,
   "id": "1fc6a5d0-ebc7-4d19-8499-c6ae45affae3",
   "metadata": {},
   "outputs": [],
   "source": []
  }
 ],
 "metadata": {
  "kernelspec": {
   "display_name": "Python 3 (ipykernel)",
   "language": "python",
   "name": "python3"
  },
  "language_info": {
   "codemirror_mode": {
    "name": "ipython",
    "version": 3
   },
   "file_extension": ".py",
   "mimetype": "text/x-python",
   "name": "python",
   "nbconvert_exporter": "python",
   "pygments_lexer": "ipython3",
   "version": "3.7.11"
  }
 },
 "nbformat": 4,
 "nbformat_minor": 5
}

{
 "cells": [
  {
   "cell_type": "code",
   "execution_count": 2,
   "id": "17afb967-3dde-4819-b0f4-8fd79ca8d3e4",
   "metadata": {},
   "outputs": [],
   "source": [
    "import numpy as np\n",
    "import matplotlib.pyplot as plt\n",
    "\n",
    "import sys\n",
    "sys.path.append('/home/jack/workspaces/jupyter-workspace/pepe/')\n",
    "#sys.path.append('/eno/jdfeathe/pepe/')\n",
    "\n",
    "from pepe.utils import preserveOrderSort, preserveOrderArgsort\n",
    "from pepe.analysis import g2ForceCalibration\n",
    "from pepe.preprocess import circularMask"
   ]
  },
  {
   "cell_type": "code",
   "execution_count": 11,
   "id": "3220a292-b15f-44eb-8a2f-339a969d88d9",
   "metadata": {},
   "outputs": [],
   "source": [
    "a = [1.0, 3.0, 6.0, 8.0, 12., 50., 13.]\n",
    "b = [1.2, 6.2, 8.1, 2.9, 45., 13, 14]\n",
    "\n",
    "c = [[1, 2], [4, 5], [2.5, 6.5], [12., 18.]]\n",
    "d = [[1.2, 2.1], [2., 7.], [5., 4.5], [None, None]]\n",
    "\n",
    "e = [3, None, None, None]\n",
    "f = [1.1, 3.1, 2.5]"
   ]
  },
  {
   "cell_type": "code",
   "execution_count": 12,
   "id": "209f8923-91f3-4b4b-9cca-85fff1b7f1ae",
   "metadata": {},
   "outputs": [
    {
     "data": {
      "text/plain": [
       "[0, None, None]"
      ]
     },
     "execution_count": 12,
     "metadata": {},
     "output_type": "execute_result"
    }
   ],
   "source": [
    "preserveOrderArgsort(f, e, True, fillNanSpots=False)"
   ]
  },
  {
   "cell_type": "code",
   "execution_count": 9,
   "id": "87b21920-22c5-47c9-8ad8-d470dba2416a",
   "metadata": {},
   "outputs": [
    {
     "data": {
      "text/plain": [
       "array([[ 1. ,  2. ],\n",
       "       [ 2.5,  6.5],\n",
       "       [ 4. ,  5. ],\n",
       "       [12. , 18. ]])"
      ]
     },
     "execution_count": 9,
     "metadata": {},
     "output_type": "execute_result"
    }
   ],
   "source": [
    "preserveOrderSort(d, c, True, fillNanSpots=True)"
   ]
  },
  {
   "cell_type": "code",
   "execution_count": 21,
   "id": "3d75a81c-ef35-4a19-8ba4-b5d004267121",
   "metadata": {},
   "outputs": [
    {
     "name": "stdout",
     "output_type": "stream",
     "text": [
      "2.21 s ± 124 ms per loop (mean ± std. dev. of 7 runs, 1 loop each)\n"
     ]
    }
   ],
   "source": [
    "%timeit g2ForceCalibration(100, 150, 10000)"
   ]
  },
  {
   "cell_type": "code",
   "execution_count": 10,
   "id": "fe26d9dd-b9fa-4a59-bb5d-8d7f7c3fae8b",
   "metadata": {},
   "outputs": [
    {
     "data": {
      "image/png": "[encoded data removed]",
      "text/plain": [
       "<Figure size 432x288 with 1 Axes>"
      ]
     },
     "metadata": {
      "needs_background": "light"
     },
     "output_type": "display_data"
    }
   ],
   "source": [
    "mask = circularMask((512, 640), np.array([-30, -10]), 50)[:,:,0]\n",
    "\n",
    "plt.imshow(mask)\n",
    "plt.show()"
   ]
  },
  {
   "cell_type": "code",
   "execution_count": null,
   "id": "480aeb3c-622e-4088-83aa-afa5d4b785dc",
   "metadata": {},
   "outputs": [],
   "source": []
  }
 ],
 "metadata": {
  "kernelspec": {
   "display_name": "Python 3 (ipykernel)",
   "language": "python",
   "name": "python3"
  },
  "language_info": {
   "codemirror_mode": {
    "name": "ipython",
    "version": 3
   },
   "file_extension": ".py",
   "mimetype": "text/x-python",
   "name": "python",
   "nbconvert_exporter": "python",
   "pygments_lexer": "ipython3",
   "version": "3.7.11"
  }
 },
 "nbformat": 4,
 "nbformat_minor": 5
}

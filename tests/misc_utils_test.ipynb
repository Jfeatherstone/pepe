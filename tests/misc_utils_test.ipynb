{
 "cells": [
  {
   "cell_type": "code",
   "execution_count": 1,
   "id": "17afb967-3dde-4819-b0f4-8fd79ca8d3e4",
   "metadata": {},
   "outputs": [],
   "source": [
    "import numpy as np\n",
    "\n",
    "import sys\n",
    "sys.path.append('/home/jack/workspaces/jupyter-workspace/pepe/')\n",
    "\n",
    "from pepe.utils import preserveOrderSort, preserveOrderArgsort\n",
    "from pepe.analysis import g2ForceCalibration"
   ]
  },
  {
   "cell_type": "code",
   "execution_count": 2,
   "id": "3220a292-b15f-44eb-8a2f-339a969d88d9",
   "metadata": {},
   "outputs": [],
   "source": [
    "a = [1.0, 3.0, 6.0, 8.0, 12., 50., 13.]\n",
    "b = [1.2, 6.2, 8.1, 2.9, 45., 13, 14]\n",
    "\n",
    "c = [[1, 2], [4, 5], [2.5, 6.5], [12., 18.]]\n",
    "d = [[1.2, 2.1], [2., 7.], [5., 4.5]]"
   ]
  },
  {
   "cell_type": "code",
   "execution_count": 3,
   "id": "209f8923-91f3-4b4b-9cca-85fff1b7f1ae",
   "metadata": {},
   "outputs": [
    {
     "data": {
      "text/plain": [
       "[[1.2, 2.1], [5.0, 4.5], [2.0, 7.0], None]"
      ]
     },
     "execution_count": 3,
     "metadata": {},
     "output_type": "execute_result"
    }
   ],
   "source": [
    "preserveOrderSort(c, d, True)"
   ]
  },
  {
   "cell_type": "code",
   "execution_count": 6,
   "id": "87b21920-22c5-47c9-8ad8-d470dba2416a",
   "metadata": {},
   "outputs": [
    {
     "data": {
      "text/plain": [
       "[[0, 2, 1]]"
      ]
     },
     "execution_count": 6,
     "metadata": {},
     "output_type": "execute_result"
    }
   ],
   "source": [
    "[preserveOrderArgsort(c, d, False)]"
   ]
  },
  {
   "cell_type": "code",
   "execution_count": 21,
   "id": "3d75a81c-ef35-4a19-8ba4-b5d004267121",
   "metadata": {},
   "outputs": [
    {
     "name": "stdout",
     "output_type": "stream",
     "text": [
      "2.21 s ± 124 ms per loop (mean ± std. dev. of 7 runs, 1 loop each)\n"
     ]
    }
   ],
   "source": [
    "%timeit g2ForceCalibration(100, 150, 10000)"
   ]
  },
  {
   "cell_type": "code",
   "execution_count": null,
   "id": "fe26d9dd-b9fa-4a59-bb5d-8d7f7c3fae8b",
   "metadata": {},
   "outputs": [],
   "source": []
  }
 ],
 "metadata": {
  "kernelspec": {
   "display_name": "Python 3 (ipykernel)",
   "language": "python",
   "name": "python3"
  },
  "language_info": {
   "codemirror_mode": {
    "name": "ipython",
    "version": 3
   },
   "file_extension": ".py",
   "mimetype": "text/x-python",
   "name": "python",
   "nbconvert_exporter": "python",
   "pygments_lexer": "ipython3",
   "version": "3.7.11"
  }
 },
 "nbformat": 4,
 "nbformat_minor": 5
}
